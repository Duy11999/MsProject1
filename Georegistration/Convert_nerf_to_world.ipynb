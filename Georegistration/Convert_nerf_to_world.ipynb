{
 "cells": [
  {
   "cell_type": "code",
   "execution_count": 2,
   "id": "d0c5c114-1232-4ec5-a9ce-4d3f185976a0",
   "metadata": {
    "tags": []
   },
   "outputs": [
    {
     "name": "stdout",
     "output_type": "stream",
     "text": [
      "Transformed PLY saved to: /home/d8/nerfstudio/outputs/output/nerfacto/transformed_point_cloud.ply\n"
     ]
    }
   ],
   "source": [
    "import open3d as o3d\n",
    "import numpy as np\n",
    "\n",
    "# Step 1: Load a PLY file\n",
    "def load_ply(file_path):\n",
    "    point_cloud = o3d.io.read_point_cloud(file_path)\n",
    "    points = np.asarray(point_cloud.points)\n",
    "    return points, point_cloud\n",
    "\n",
    "# Step 2: Apply the transformation to the points\n",
    "def transform_points(points, transform_matrix, scale):\n",
    "    # Divide the points by the scale\n",
    "    scaled_points = points / scale\n",
    "    \n",
    "    # Convert to homogeneous coordinates\n",
    "    num_points = scaled_points.shape[0]\n",
    "    homogeneous_points = np.hstack((scaled_points, np.ones((num_points, 1))))\n",
    "    \n",
    "    # Apply the transformation matrix\n",
    "    transformed_points = homogeneous_points @ transform_matrix.T  # Transpose for correct multiplication\n",
    "    return transformed_points[:, :3]  # Convert back to 3D by removing the homogeneous coordinate\n",
    "\n",
    "# Step 3: Save the transformed points to a new PLY file\n",
    "def save_ply(points, original_point_cloud, output_path):\n",
    "    transformed_cloud = o3d.geometry.PointCloud()\n",
    "    transformed_cloud.points = o3d.utility.Vector3dVector(points)\n",
    "    transformed_cloud.colors = original_point_cloud.colors  # Preserve colors if they exist\n",
    "    transformed_cloud.normals = original_point_cloud.normals  # Preserve normals if they exist\n",
    "    o3d.io.write_point_cloud(output_path, transformed_cloud)\n",
    "\n",
    "# Main function\n",
    "def main():\n",
    "    # Input and output paths\n",
    "    input_ply = \"/home/d8/nerfstudio/exports/pcd/point_cloud.ply\"  # Input .ply file path\n",
    "    output_ply = \"/home/d8/nerfstudio/outputs/output/nerfacto/transformed_point_cloud.ply\"  # Output .ply file path\n",
    "\n",
    "    # Transformation matrix and scale factor\n",
    "    transform = np.array([\n",
    "        [0.3300740718841553, 0.47778645157814026, 0.8141075968742371, -149900.375],\n",
    "        [0.8141075968742371, -0.580615758895874, 0.010679960250854492, 142585.0],\n",
    "        [0.47778645157814026, 0.6592459678649902, -0.580615758895874, 6366899.5]\n",
    "    ])\n",
    "    scale = 0.056338028169014086\n",
    "\n",
    "    # Load, transform, and save the PLY file\n",
    "    points, original_point_cloud = load_ply(input_ply)\n",
    "    transformed_points = transform_points(points, transform, scale)\n",
    "    save_ply(transformed_points, original_point_cloud, output_ply)\n",
    "\n",
    "    print(f\"Transformed PLY saved to: {output_ply}\")\n",
    "\n",
    "# Run the script\n",
    "if __name__ == \"__main__\":\n",
    "    main()\n"
   ]
  },
  {
   "cell_type": "code",
   "execution_count": null,
   "id": "7fbc47f0-369b-47fd-834b-4e860c9eda86",
   "metadata": {},
   "outputs": [],
   "source": []
  }
 ],
 "metadata": {
  "kernelspec": {
   "display_name": "Duy1",
   "language": "python",
   "name": "duy1"
  },
  "language_info": {
   "codemirror_mode": {
    "name": "ipython",
    "version": 3
   },
   "file_extension": ".py",
   "mimetype": "text/x-python",
   "name": "python",
   "nbconvert_exporter": "python",
   "pygments_lexer": "ipython3",
   "version": "3.9.20"
  }
 },
 "nbformat": 4,
 "nbformat_minor": 5
}
