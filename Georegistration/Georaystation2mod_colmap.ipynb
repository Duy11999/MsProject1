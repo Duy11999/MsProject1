{
 "cells": [
  {
   "cell_type": "code",
   "execution_count": 1,
   "metadata": {
    "tags": []
   },
   "outputs": [],
   "source": [
    "#Import Important Libraries\n",
    "import json\n",
    "import os\n",
    "from PIL import Image\n",
    "from PIL.ExifTags import TAGS, GPSTAGS\n",
    "#import piexif\n",
    "import math"
   ]
  },
  {
   "cell_type": "code",
   "execution_count": 2,
   "metadata": {
    "tags": []
   },
   "outputs": [],
   "source": [
    "# Function to convert GPS components to decimal degrees\n",
    "def convert_to_decimal_degrees(gps_component):\n",
    "    degrees = gps_component[0]\n",
    "    minutes = gps_component[1]\n",
    "    seconds = gps_component[2]\n",
    "\n",
    "    decimal_degrees = degrees + minutes / 60.0 + seconds / 3600.0\n",
    "\n",
    "    return decimal_degrees\n",
    "\n",
    "# Function to get geo-registration information from an image\n",
    "def get_geo_registration(image_path):\n",
    "    with Image.open(image_path) as img:\n",
    "        exif_data = img._getexif()\n",
    "\n",
    "        if exif_data is not None:\n",
    "            gps_info = None\n",
    "            for tag, value in exif_data.items():\n",
    "                tag_name = TAGS.get(tag, tag)\n",
    "                if tag_name == 'GPSInfo':\n",
    "                    gps_info = value\n",
    "                    #print(gps_info)\n",
    "                \n",
    "            if gps_info:\n",
    "                latitude_degrees, latitude_minutes, latitude_seconds = gps_info[2] #latitude info extracted\n",
    "                longitude_degrees, longitude_minutes, longitude_seconds = gps_info[4] #longitude info extracted\n",
    "                altitude = -gps_info[6] #altitude info extracted\n",
    "                \n",
    "\n",
    "                latitude = convert_to_decimal_degrees((latitude_degrees, latitude_minutes, latitude_seconds))\n",
    "                if gps_info[1] == 'S': # always negative\n",
    "                    latitude = -latitude\n",
    "\n",
    "                longitude = convert_to_decimal_degrees((longitude_degrees, longitude_minutes, longitude_seconds))\n",
    "                if gps_info[3] == 'E':\n",
    "                    longitude = -longitude\n",
    "\n",
    "                # Convert altitude to a float and format as a string with 6 digits precision\n",
    "                altitude = float(altitude)\n",
    "                altitude_str = f\"{altitude:.6f}\"\n",
    "\n",
    "                # Convert longitude and latitude (decimal degrees) to radians\n",
    "                latitude_rad = math.radians(latitude)\n",
    "                longitude_rad = math.radians(longitude)\n",
    "\n",
    "                # Constants for ECEF conversion\n",
    "                a = 6378137.0  # semi-major axis of the Earth (in meters)\n",
    "                f = 1 / 298.257223563  # flattening factor\n",
    "                e2 = 2 * f - f**2  # eccentricity squared\n",
    "\n",
    "                # Conversion of GPS information to EPES Coordinate\n",
    "                N = a / math.sqrt(1 - e2 * (math.sin(latitude_rad)**2))\n",
    "                X = (N + altitude) * math.cos(latitude_rad) * math.cos(longitude_rad)\n",
    "                Y = (N + altitude) * math.cos(latitude_rad) * math.sin(longitude_rad)\n",
    "                Z = (N * (1 - e2) + altitude) * math.sin(latitude_rad)\n",
    "                \n",
    "                filename = os.path.basename(image_path)  # Extract filename without path\n",
    "\n",
    "                geo_coordinates = f\"{filename} {latitude:.6f} {longitude:.6f} {altitude_str}\\n\" #GPS information for each image in the JSON format\n",
    "                ecef_coordinates = f\"{filename}  {X:.6f} {Y:.6f} {Z:.6f}\\n\"  #ECEF cooridnates for each image in the JSON format\n",
    "\n",
    "                return geo_coordinates, ecef_coordinates"
   ]
  },
  {
   "cell_type": "markdown",
   "metadata": {},
   "source": [
    "## Extract the image filename from Json file "
   ]
  },
  {
   "cell_type": "code",
   "execution_count": 3,
   "metadata": {
    "tags": []
   },
   "outputs": [
    {
     "name": "stdout",
     "output_type": "stream",
     "text": [
      "['frame_00001.JPG', 'frame_00002.JPG', 'frame_00003.JPG', 'frame_00004.JPG', 'frame_00005.JPG', 'frame_00006.JPG', 'frame_00007.JPG', 'frame_00008.JPG', 'frame_00009.JPG', 'frame_00010.JPG', 'frame_00011.JPG', 'frame_00012.JPG', 'frame_00013.JPG', 'frame_00014.JPG', 'frame_00015.JPG', 'frame_00016.JPG', 'frame_00017.JPG', 'frame_00018.JPG', 'frame_00019.JPG', 'frame_00020.JPG', 'frame_00021.JPG', 'frame_00022.JPG', 'frame_00023.JPG', 'frame_00024.JPG', 'frame_00025.JPG', 'frame_00026.JPG', 'frame_00027.JPG', 'frame_00028.JPG', 'frame_00029.JPG', 'frame_00030.JPG', 'frame_00031.JPG', 'frame_00032.JPG', 'frame_00033.JPG', 'frame_00034.JPG', 'frame_00035.JPG', 'frame_00036.JPG', 'frame_00037.JPG', 'frame_00038.JPG', 'frame_00039.JPG', 'frame_00040.JPG', 'frame_00041.JPG', 'frame_00042.JPG', 'frame_00043.JPG', 'frame_00044.JPG', 'frame_00045.JPG', 'frame_00046.JPG', 'frame_00047.JPG', 'frame_00048.JPG', 'frame_00049.JPG', 'frame_00050.JPG', 'frame_00051.JPG', 'frame_00052.JPG', 'frame_00053.JPG', 'frame_00054.JPG', 'frame_00055.JPG', 'frame_00056.JPG', 'frame_00057.JPG', 'frame_00058.JPG', 'frame_00059.JPG', 'frame_00060.JPG', 'frame_00061.JPG', 'frame_00062.JPG', 'frame_00063.JPG', 'frame_00064.JPG', 'frame_00065.JPG', 'frame_00066.JPG', 'frame_00067.JPG', 'frame_00068.JPG', 'frame_00069.JPG', 'frame_00070.JPG', 'frame_00071.JPG', 'frame_00072.JPG', 'frame_00073.JPG', 'frame_00074.JPG', 'frame_00075.JPG', 'frame_00076.JPG', 'frame_00077.JPG', 'frame_00078.JPG', 'frame_00079.JPG', 'frame_00080.JPG', 'frame_00081.JPG', 'frame_00082.JPG', 'frame_00083.JPG', 'frame_00084.JPG', 'frame_00085.JPG', 'frame_00086.JPG', 'frame_00087.JPG', 'frame_00088.JPG', 'frame_00089.JPG', 'frame_00090.JPG', 'frame_00091.JPG', 'frame_00092.JPG', 'frame_00093.JPG', 'frame_00094.JPG', 'frame_00095.JPG', 'frame_00096.JPG', 'frame_00097.JPG', 'frame_00098.JPG', 'frame_00099.JPG', 'frame_00100.JPG', 'frame_00101.JPG']\n",
      "The size of modified_file_paths is 101\n"
     ]
    }
   ],
   "source": [
    "# Specify the path to your JSON file\n",
    "json_file_path = '/home/d8/nerfstudio/output/transforms.json'\n",
    "\n",
    "# Create a list to store the modified file paths\n",
    "modified_file_paths = []\n",
    "\n",
    "try:\n",
    "    # Open and load the JSON file\n",
    "    with open(json_file_path, 'r') as json_file:\n",
    "        data = json.load(json_file)\n",
    "\n",
    "        # Loop through all frames and extract \"file_path\"\n",
    "        for frame in data.get(\"frames\", []):\n",
    "            file_path = frame.get(\"file_path\")\n",
    "            if file_path is not None:\n",
    "                # Remove \"images/\" from the file path\n",
    "                modified_file_path = os.path.basename(file_path)\n",
    "                modified_file_paths.append(modified_file_path)\n",
    "\n",
    "        # Sort the file paths based on the frame number (assuming the frame number is part of the filename)\n",
    "        modified_file_paths = sorted(modified_file_paths, key=lambda x: int(x.split(\"_\")[1].split(\".\")[0]))\n",
    "\n",
    "except FileNotFoundError:\n",
    "    print(f\"File not found: {json_file_path}\")\n",
    "except json.JSONDecodeError:\n",
    "    print(f\"Invalid JSON format in: {json_file_path}\")\n",
    "\n",
    "size = len(modified_file_paths)\n",
    "print(modified_file_paths)\n",
    "print(f\"The size of modified_file_paths is {size}\")"
   ]
  },
  {
   "cell_type": "markdown",
   "metadata": {},
   "source": [
    "## Check missing image frames in the Jason file (Images for which poses are not estimated)"
   ]
  },
  {
   "cell_type": "code",
   "execution_count": 4,
   "metadata": {
    "tags": []
   },
   "outputs": [
    {
     "name": "stdout",
     "output_type": "stream",
     "text": [
      "101\n",
      "Number of modified_file_paths is equal to the number of images in the directory.\n",
      "missing_frame_number: 0\n"
     ]
    }
   ],
   "source": [
    "image_directory = '/home/d8/3D-2D-Projection/SteelGirderImages'\n",
    "all_images = [img for img in os.listdir(image_directory) if img.lower().endswith(('.png', '.jpg', '.jpeg', '.gif', '.bmp'))]\n",
    "num_images_in_directory = len(all_images)\n",
    "print(num_images_in_directory)\n",
    "\n",
    "if size != num_images_in_directory:\n",
    "    # Extract frame numbers from modified_file_paths\n",
    "    extracted_frame_numbers = {int(x.split(\"_\")[1].split(\".\")[0]) for x in modified_file_paths}\n",
    "    #print(extracted_frame_numbers)\n",
    "\n",
    "    # Find the expected range of frame numbers based on the number of images in the directory\n",
    "    expected_frame_numbers = set(range(1, num_images_in_directory + 1))\n",
    "    #print(expected_frame_numbers)\n",
    "\n",
    "    # Find missing frame numbers\n",
    "    missing_frame_numbers = expected_frame_numbers - extracted_frame_numbers\n",
    "    \n",
    "    \n",
    "    if missing_frame_numbers:\n",
    "        print(f\"Missing frame numbers: {missing_frame_numbers}\")\n",
    "        print(len(missing_frame_numbers))\n",
    "    else:\n",
    "        print(\"No missing frame numbers.\")\n",
    "else:\n",
    "    print(\"Number of modified_file_paths is equal to the number of images in the directory.\")\n",
    "    print('missing_frame_number: 0')"
   ]
  },
  {
   "cell_type": "markdown",
   "metadata": {},
   "source": [
    "## Extract the GPS and ECEF cordinates for each image frame whose pose information extracted"
   ]
  },
  {
   "cell_type": "code",
   "execution_count": 5,
   "metadata": {
    "tags": []
   },
   "outputs": [
    {
     "name": "stdout",
     "output_type": "stream",
     "text": [
      "['frame_00001.JPG 36.999462 -127.556562 -174.300000\\n', 'frame_00002.JPG 36.999479 -127.556595 -174.148000\\n', 'frame_00003.JPG 36.999484 -127.556615 -174.025000\\n', 'frame_00004.JPG 36.999488 -127.556645 -173.838000\\n', 'frame_00005.JPG 36.999490 -127.556697 -173.697000\\n', 'frame_00006.JPG 36.999485 -127.556740 -173.630000\\n', 'frame_00007.JPG 36.999476 -127.556776 -173.709000\\n', 'frame_00008.JPG 36.999470 -127.556791 -173.710000\\n', 'frame_00009.JPG 36.999451 -127.556821 -173.689000\\n', 'frame_00010.JPG 36.999407 -127.556864 -173.655000\\n', 'frame_00011.JPG 36.999381 -127.556871 -173.712000\\n', 'frame_00012.JPG 36.999327 -127.556852 -173.712000\\n', 'frame_00013.JPG 36.999314 -127.556828 -173.537000\\n', 'frame_00014.JPG 36.999308 -127.556818 -173.491000\\n', 'frame_00015.JPG 36.999300 -127.556780 -173.445000\\n', 'frame_00016.JPG 36.999301 -127.556755 -173.524000\\n', 'frame_00017.JPG 36.999300 -127.556732 -173.565000\\n', 'frame_00018.JPG 36.999303 -127.556702 -173.790000\\n', 'frame_00019.JPG 36.999305 -127.556670 -174.005000\\n', 'frame_00020.JPG 36.999315 -127.556624 -174.141000\\n', 'frame_00021.JPG 36.999324 -127.556601 -174.277000\\n', 'frame_00022.JPG 36.999340 -127.556563 -174.270000\\n', 'frame_00023.JPG 36.999325 -127.556553 -174.303000\\n', 'frame_00024.JPG 36.999357 -127.556503 -172.762000\\n', 'frame_00025.JPG 36.999379 -127.556499 -172.609000\\n', 'frame_00026.JPG 36.999394 -127.556495 -172.325000\\n', 'frame_00027.JPG 36.999417 -127.556504 -172.387000\\n', 'frame_00028.JPG 36.999422 -127.556523 -170.158000\\n', 'frame_00029.JPG 36.999436 -127.556544 -170.812000\\n', 'frame_00030.JPG 36.999460 -127.556589 -170.688000\\n', 'frame_00031.JPG 36.999467 -127.556628 -170.075000\\n', 'frame_00032.JPG 36.999467 -127.556656 -170.060000\\n', 'frame_00033.JPG 36.999471 -127.556698 -169.947000\\n', 'frame_00034.JPG 36.999466 -127.556732 -170.007000\\n', 'frame_00035.JPG 36.999465 -127.556756 -170.176000\\n', 'frame_00036.JPG 36.999455 -127.556791 -170.205000\\n', 'frame_00037.JPG 36.999436 -127.556819 -170.298000\\n', 'frame_00038.JPG 36.999408 -127.556839 -170.281000\\n', 'frame_00039.JPG 36.999396 -127.556822 -170.371000\\n', 'frame_00040.JPG 36.999367 -127.556817 -170.420000\\n', 'frame_00041.JPG 36.999354 -127.556804 -170.393000\\n', 'frame_00042.JPG 36.999342 -127.556787 -170.045000\\n', 'frame_00043.JPG 36.999332 -127.556753 -169.995000\\n', 'frame_00044.JPG 36.999314 -127.556701 -170.064000\\n', 'frame_00045.JPG 36.999326 -127.556682 -170.258000\\n', 'frame_00046.JPG 36.999328 -127.556651 -170.521000\\n', 'frame_00047.JPG 36.999324 -127.556624 -170.855000\\n', 'frame_00048.JPG 36.999330 -127.556588 -170.957000\\n', 'frame_00049.JPG 36.999349 -127.556551 -170.897000\\n', 'frame_00050.JPG 36.999363 -127.556533 -171.155000\\n', 'frame_00051.JPG 36.999398 -127.556520 -171.374000\\n', 'frame_00052.JPG 36.999455 -127.556510 -178.213000\\n', 'frame_00053.JPG 36.999488 -127.556538 -178.485000\\n', 'frame_00054.JPG 36.999505 -127.556568 -178.575000\\n', 'frame_00055.JPG 36.999520 -127.556605 -178.606000\\n', 'frame_00056.JPG 36.999509 -127.556673 -178.491000\\n', 'frame_00057.JPG 36.999492 -127.556751 -178.300000\\n', 'frame_00058.JPG 36.999483 -127.556809 -178.164000\\n', 'frame_00059.JPG 36.999462 -127.556837 -177.496000\\n', 'frame_00060.JPG 36.999418 -127.556866 -177.402000\\n', 'frame_00061.JPG 36.999394 -127.556864 -177.508000\\n', 'frame_00062.JPG 36.999338 -127.556842 -177.517000\\n', 'frame_00063.JPG 36.999304 -127.556813 -177.253000\\n', 'frame_00064.JPG 36.999291 -127.556745 -177.135000\\n', 'frame_00065.JPG 36.999289 -127.556686 -177.050000\\n', 'frame_00066.JPG 36.999291 -127.556651 -176.592000\\n', 'frame_00067.JPG 36.999307 -127.556614 -176.112000\\n', 'frame_00068.JPG 36.999322 -127.556585 -176.010000\\n', 'frame_00069.JPG 36.999324 -127.556554 -175.909000\\n', 'frame_00070.JPG 36.999365 -127.556513 -176.039000\\n', 'frame_00071.JPG 36.999370 -127.556493 -176.737000\\n', 'frame_00072.JPG 36.999413 -127.556482 -176.844000\\n', 'frame_00073.JPG 36.999423 -127.556548 -171.043000\\n', 'frame_00074.JPG 36.999447 -127.556578 -170.973000\\n', 'frame_00075.JPG 36.999453 -127.556589 -170.958000\\n', 'frame_00076.JPG 36.999458 -127.556611 -171.298000\\n', 'frame_00077.JPG 36.999460 -127.556636 -171.414000\\n', 'frame_00078.JPG 36.999458 -127.556668 -171.690000\\n', 'frame_00079.JPG 36.999450 -127.556714 -171.697000\\n', 'frame_00080.JPG 36.999444 -127.556736 -171.841000\\n', 'frame_00081.JPG 36.999438 -127.556767 -171.858000\\n', 'frame_00082.JPG 36.999421 -127.556793 -171.868000\\n', 'frame_00083.JPG 36.999407 -127.556799 -171.851000\\n', 'frame_00084.JPG 36.999392 -127.556802 -171.777000\\n', 'frame_00085.JPG 36.999363 -127.556796 -171.964000\\n', 'frame_00086.JPG 36.999346 -127.556777 -171.822000\\n', 'frame_00087.JPG 36.999335 -127.556761 -171.774000\\n', 'frame_00088.JPG 36.999336 -127.556746 -171.811000\\n', 'frame_00089.JPG 36.999340 -127.556726 -171.922000\\n', 'frame_00090.JPG 36.999335 -127.556709 -171.953000\\n', 'frame_00091.JPG 36.999333 -127.556690 -171.936000\\n', 'frame_00092.JPG 36.999335 -127.556675 -171.935000\\n', 'frame_00093.JPG 36.999331 -127.556632 -171.849000\\n', 'frame_00094.JPG 36.999330 -127.556599 -171.732000\\n', 'frame_00095.JPG 36.999340 -127.556559 -171.762000\\n', 'frame_00096.JPG 36.999348 -127.556548 -171.764000\\n', 'frame_00097.JPG 36.999360 -127.556535 -171.735000\\n', 'frame_00098.JPG 36.999377 -127.556530 -171.683000\\n', 'frame_00099.JPG 36.999423 -127.556534 -171.544000\\n', 'frame_00100.JPG 36.999424 -127.556546 -171.464000\\n', 'frame_00101.JPG 36.999462 -127.556550 -174.879000\\n']\n",
      "101\n",
      "['frame_00001.JPG  -3108608.933158 -4042947.768391 3817240.618750\\n', 'frame_00002.JPG  -3108610.637946 -4042945.211311 3817242.182449\\n', 'frame_00003.JPG  -3108611.894377 -4042943.957293 3817242.689768\\n', 'frame_00004.JPG  -3108613.930710 -4042942.228928 3817243.171593\\n', 'frame_00005.JPG  -3108617.604151 -4042939.413080 3817243.396776\\n', 'frame_00006.JPG  -3108620.873296 -4042937.369433 3817243.013649\\n', 'frame_00007.JPG  -3108623.714934 -4042935.816309 3817242.217684\\n', 'frame_00008.JPG  -3108625.005830 -4042935.365642 3817241.645919\\n', 'frame_00009.JPG  -3108627.938437 -4042934.697464 3817240.011536\\n', 'frame_00010.JPG  -3108632.802003 -4042934.715269 3817236.115092\\n', 'frame_00011.JPG  -3108634.281390 -4042935.738793 3817233.746893\\n', 'frame_00012.JPG  -3108635.137619 -4042939.639028 3817228.951079\\n', 'frame_00013.JPG  -3108634.082947 -4042941.735497 3817227.889446\\n', 'frame_00014.JPG  -3108633.663869 -4042942.614220 3817227.380431\\n', 'frame_00015.JPG  -3108631.353769 -4042945.106084 3817226.704005\\n', 'frame_00016.JPG  -3108629.451129 -4042946.395835 3817226.754939\\n', 'frame_00017.JPG  -3108627.872532 -4042947.608099 3817226.688412\\n', 'frame_00018.JPG  -3108625.492781 -4042948.991247 3817226.784427\\n', 'frame_00019.JPG  -3108623.065200 -4042950.470386 3817226.834758\\n', 'frame_00020.JPG  -3108619.357705 -4042952.325237 3817227.656437\\n', 'frame_00021.JPG  -3108617.292300 -4042953.062571 3817228.325476\\n', 'frame_00022.JPG  -3108613.989596 -4042954.202645 3817229.809301\\n', 'frame_00023.JPG  -3108613.852973 -4042955.582581 3817228.413230\\n', 'frame_00024.JPG  -3108609.790043 -4042957.518708 3817232.223518\\n', 'frame_00025.JPG  -3108608.680504 -4042956.667899 3817234.270356\\n', 'frame_00026.JPG  -3108607.883435 -4042956.328942 3817235.743623\\n', 'frame_00027.JPG  -3108607.598914 -4042954.514856 3817237.779244\\n', 'frame_00028.JPG  -3108609.808116 -4042954.666287 3817239.536735\\n', 'frame_00029.JPG  -3108610.362292 -4042952.369135 3817240.418426\\n', 'frame_00030.JPG  -3108612.653466 -4042948.773684 3817242.553673\\n', 'frame_00031.JPG  -3108615.441331 -4042946.611136 3817243.592222\\n', 'frame_00032.JPG  -3108617.403356 -4042945.110629 3817243.608635\\n', 'frame_00033.JPG  -3108620.293012 -4042942.719455 3817243.974531\\n', 'frame_00034.JPG  -3108622.816420 -4042941.093181 3817243.544516\\n', 'frame_00035.JPG  -3108624.462029 -4042939.765261 3817243.329562\\n', 'frame_00036.JPG  -3108627.388996 -4042938.367728 3817242.383968\\n', 'frame_00037.JPG  -3108630.058491 -4042937.819772 3817240.646512\\n', 'frame_00038.JPG  -3108632.580927 -4042938.200090 3817238.234217\\n', 'frame_00039.JPG  -3108631.910038 -4042939.692376 3817237.057420\\n', 'frame_00040.JPG  -3108632.650978 -4042941.467266 3817234.509390\\n', 'frame_00041.JPG  -3108632.292532 -4042942.862923 3817233.375924\\n', 'frame_00042.JPG  -3108631.787142 -4042944.643468 3817232.489798\\n', 'frame_00043.JPG  -3108629.812728 -4042947.056761 3817231.631136\\n', 'frame_00044.JPG  -3108626.806897 -4042950.777402 3817230.033678\\n', 'frame_00045.JPG  -3108624.859587 -4042951.096390 3817230.950934\\n', 'frame_00046.JPG  -3108622.515237 -4042952.444454 3817230.992075\\n', 'frame_00047.JPG  -3108620.565048 -4042953.972531 3817230.407012\\n', 'frame_00048.JPG  -3108617.728466 -4042955.507903 3817230.916793\\n', 'frame_00049.JPG  -3108614.404294 -4042956.547046 3817232.612235\\n', 'frame_00050.JPG  -3108612.429147 -4042956.631065 3817233.692851\\n', 'frame_00051.JPG  -3108609.960065 -4042955.379058 3817236.643376\\n', 'frame_00052.JPG  -3108603.613824 -4042948.524772 3817237.623780\\n', 'frame_00053.JPG  -3108604.118385 -4042945.108459 3817240.357758\\n', 'frame_00054.JPG  -3108605.475961 -4042942.497328 3817241.857061\\n', 'frame_00055.JPG  -3108607.470104 -4042939.687853 3817243.148141\\n', 'frame_00056.JPG  -3108612.814430 -4042936.623497 3817242.239970\\n', 'frame_00057.JPG  -3108619.089541 -4042933.467609 3817240.801450\\n', 'frame_00058.JPG  -3108623.586480 -4042930.846614 3817240.147185\\n', 'frame_00059.JPG  -3108626.764543 -4042930.870845 3817238.660906\\n', 'frame_00060.JPG  -3108630.646749 -4042931.701326 3817234.803035\\n', 'frame_00061.JPG  -3108631.412640 -4042933.046245 3817232.592455\\n', 'frame_00062.JPG  -3108632.145526 -4042937.163299 3817227.653361\\n', 'frame_00063.JPG  -3108631.629013 -4042940.714139 3817224.774232\\n', 'frame_00064.JPG  -3108627.427284 -4042945.114457 3817223.739844\\n', 'frame_00065.JPG  -3108623.343003 -4042948.527706 3817223.594044\\n', 'frame_00066.JPG  -3108621.004067 -4042950.588606 3817224.078934\\n', 'frame_00067.JPG  -3108617.999247 -4042952.067423 3817225.751398\\n', 'frame_00068.JPG  -3108615.395947 -4042952.863719 3817227.188994\\n', 'frame_00069.JPG  -3108613.178058 -4042954.530390 3817227.397492\\n', 'frame_00070.JPG  -3108608.530786 -4042954.513981 3817230.957969\\n', 'frame_00071.JPG  -3108606.575818 -4042954.871676 3817231.003211\\n', 'frame_00072.JPG  -3108604.050071 -4042953.160618 3817234.668618\\n', 'frame_00073.JPG  -3108611.102615 -4042952.695133 3817239.092765\\n', 'frame_00074.JPG  -3108612.278152 -4042949.818847 3817241.284144\\n', 'frame_00075.JPG  -3108612.795907 -4042948.946769 3817241.807711\\n', 'frame_00076.JPG  -3108613.999056 -4042947.307062 3817241.994541\\n', 'frame_00077.JPG  -3108615.662931 -4042945.718958 3817242.126608\\n', 'frame_00078.JPG  -3108617.834750 -4042943.955869 3817241.766018\\n', 'frame_00079.JPG  -3108621.363468 -4042941.860403 3817241.104474\\n', 'frame_00080.JPG  -3108623.164631 -4042940.868649 3817240.451574\\n', 'frame_00081.JPG  -3108625.584129 -4042939.496637 3817239.909569\\n', 'frame_00082.JPG  -3108628.054600 -4042938.998117 3817238.419017\\n', 'frame_00083.JPG  -3108629.053687 -4042939.433495 3817237.181056\\n', 'frame_00084.JPG  -3108629.951307 -4042940.097919 3817235.878922\\n', 'frame_00085.JPG  -3108630.578176 -4042941.854254 3817233.213376\\n', 'frame_00086.JPG  -3108630.031228 -4042943.868746 3817231.772444\\n', 'frame_00087.JPG  -3108629.390199 -4042945.339026 3817230.823949\\n', 'frame_00088.JPG  -3108628.260448 -4042946.088514 3817230.887849\\n', 'frame_00089.JPG  -3108626.627348 -4042946.848600 3817231.224803\\n', 'frame_00090.JPG  -3108625.576504 -4042948.053609 3817230.755616\\n', 'frame_00091.JPG  -3108624.305602 -4042949.211742 3817230.593513\\n', 'frame_00092.JPG  -3108623.265364 -4042949.907282 3817230.704901\\n', 'frame_00093.JPG  -3108620.350375 -4042952.492669 3817230.485845\\n', 'frame_00094.JPG  -3108618.180001 -4042954.436123 3817230.391308\\n', 'frame_00095.JPG  -3108614.919664 -4042956.032875 3817231.298935\\n', 'frame_00096.JPG  -3108613.825274 -4042956.207735 3817231.996916\\n', 'frame_00097.JPG  -3108612.443598 -4042956.276679 3817233.090226\\n', 'frame_00098.JPG  -3108611.355073 -4042955.712805 3817234.650371\\n', 'frame_00099.JPG  -3108609.874237 -4042953.141926 3817238.783874\\n', 'frame_00100.JPG  -3108610.712065 -4042952.458971 3817238.957576\\n', 'frame_00101.JPG  -3108607.748003 -4042948.101031 3817240.265379\\n']\n",
      "101\n"
     ]
    }
   ],
   "source": [
    "# Create and save the information for each image\n",
    "geo_data = [] #it will contain the GPS information for each of the image in JSON format in the same order\n",
    "ecef_data = [] # it will contain the ECEF coordinate informatin for each of the image in JSON format in the same order\n",
    "\n",
    "# Specify the image directory\n",
    "image_directory = '/home/d8/3D-2D-Projection'\n",
    "\n",
    "# Exract the GPS and ECEF coordinates for each image as in JSON format\n",
    "for modified_file_path in modified_file_paths:\n",
    "    image_path = os.path.join(image_directory, 'SteelGirderImages', modified_file_path)\n",
    "\n",
    "\n",
    "    if os.path.exists(image_path):\n",
    "        geo_coords, ecef_coords = get_geo_registration(image_path)\n",
    "        if geo_coords is not None:\n",
    "            geo_data.append(geo_coords)\n",
    "        if ecef_coords is not None:\n",
    "            ecef_data.append(ecef_coords)\n",
    "    else:\n",
    "        print(f\"Image not found: {image_path}\")\n",
    "\n",
    "print(geo_data)\n",
    "print(len(geo_data))\n",
    "print(ecef_data)\n",
    "print(len(ecef_data))"
   ]
  },
  {
   "cell_type": "markdown",
   "metadata": {},
   "source": [
    "## Save extracted geo-coordinates and ecef coordinates as .txt file"
   ]
  },
  {
   "cell_type": "code",
   "execution_count": 6,
   "metadata": {
    "tags": []
   },
   "outputs": [
    {
     "name": "stdout",
     "output_type": "stream",
     "text": [
      "Geo-coordinates saved to geo_coordinates.txt.\n",
      "ECEF coordinates saved to ecef_coordinates.txt.\n"
     ]
    }
   ],
   "source": [
    "#Specify the output directory\n",
    "output_directory = '/home/d8/3D-2D-Projection/Georegistratio/Coordinates_data'\n",
    "\n",
    "# Save geo-coordinates to a text file\n",
    "geo_txt_file_path = os.path.join(output_directory, 'geo_coordinates_3.txt')\n",
    "with open(geo_txt_file_path, 'w') as geo_txt_file:\n",
    "    geo_txt_file.writelines(geo_data)\n",
    "\n",
    "print(\"Geo-coordinates saved to geo_coordinates.txt.\")\n",
    "\n",
    "# Save ECEF coordinates to a text file\n",
    "ecef_txt_file_path = os.path.join(output_directory, 'ecef_coordinates_3.txt')\n",
    "with open(ecef_txt_file_path, 'w') as ecef_txt_file:\n",
    "    ecef_txt_file.writelines(ecef_data)\n",
    "\n",
    "print(\"ECEF coordinates saved to ecef_coordinates.txt.\")"
   ]
  },
  {
   "cell_type": "code",
   "execution_count": null,
   "metadata": {},
   "outputs": [],
   "source": []
  }
 ],
 "metadata": {
  "kernelspec": {
   "display_name": "Duy1",
   "language": "python",
   "name": "duy1"
  },
  "language_info": {
   "codemirror_mode": {
    "name": "ipython",
    "version": 3
   },
   "file_extension": ".py",
   "mimetype": "text/x-python",
   "name": "python",
   "nbconvert_exporter": "python",
   "pygments_lexer": "ipython3",
   "version": "3.9.20"
  }
 },
 "nbformat": 4,
 "nbformat_minor": 4
}
